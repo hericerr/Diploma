{
 "cells": [
  {
   "cell_type": "markdown",
   "metadata": {},
   "source": [
    "# Extremely randomized trees"
   ]
  },
  {
   "cell_type": "markdown",
   "metadata": {},
   "source": [
    "### Imports"
   ]
  },
  {
   "cell_type": "code",
   "execution_count": null,
   "metadata": {
    "collapsed": false
   },
   "outputs": [],
   "source": [
    "#libraries\n",
    "import numpy as np\n",
    "import pandas as pd\n",
    "import random\n",
    "import matplotlib.pyplot as plt\n",
    "import seaborn as sns\n",
    "import urllib as url\n",
    "from sklearn.ensemble import ExtraTreesClassifier\n",
    "from sklearn.model_selection import GridSearchCV\n",
    "\n",
    "#custom\n",
    "import utils\n",
    "import config\n",
    "import plots\n",
    "import transformers as tran\n",
    "\n",
    "LABEL = \"1Y_default\"\n",
    "SEED = 42\n",
    "\n",
    "%matplotlib inline  \n",
    "%load_ext autoreload\n",
    "%autoreload 2\n",
    "\n",
    "random.seed(SEED)"
   ]
  },
  {
   "cell_type": "markdown",
   "metadata": {},
   "source": [
    "### Load data"
   ]
  },
  {
   "cell_type": "code",
   "execution_count": null,
   "metadata": {
    "collapsed": false
   },
   "outputs": [],
   "source": [
    "#read from csvs\n",
    "train_df = pd.read_csv(\"train_full.csv\", na_filter = False)\n",
    "test_df = pd.read_csv(\"test_full.csv\", na_filter = False)"
   ]
  },
  {
   "cell_type": "code",
   "execution_count": null,
   "metadata": {
    "collapsed": false
   },
   "outputs": [],
   "source": [
    "#sanity checks\n",
    "print(\"Train shape: {}\".format(train_df.shape))\n",
    "print(\"Test shape: {}\".format(test_df.shape))\n",
    "print(\"Train:\")\n",
    "utils.check_missing(train_df)\n",
    "print(\"Test:\")\n",
    "utils.check_missing(test_df)"
   ]
  },
  {
   "cell_type": "code",
   "execution_count": null,
   "metadata": {
    "collapsed": true
   },
   "outputs": [],
   "source": [
    "#numerically encoded categoricals\n",
    "to_categorical = [\"Education\", \"EmploymentStatus\", \"Gender\", \"HomeOwnershipType\", \"LanguageCode\", \"MaritalStatus\",\n",
    "                 \"NewCreditCustomer\", \"OccupationArea\", \"UseOfLoan\", \"VerificationType\", \"Country\", \"NrOfDependants\", \n",
    "                  \"NrOfDependants\", \"WorkExperience\", \"EmploymentDurationCurrentEmployer\", \"MonthlyPayment\"]\n",
    "for feature in to_categorical:\n",
    "    train_df[feature] = train_df[feature].astype(\"category\")\n",
    "    test_df[feature] = test_df[feature].astype(\"category\")"
   ]
  },
  {
   "cell_type": "markdown",
   "metadata": {},
   "source": [
    "### First simple benchmark"
   ]
  },
  {
   "cell_type": "code",
   "execution_count": null,
   "metadata": {
    "collapsed": false
   },
   "outputs": [],
   "source": [
    "#model: ExtraTrees\n",
    "et_ben = ExtraTreesClassifier(n_estimators=100, random_state=SEED)  \n",
    "print(et_ben)\n",
    "#prepare sets\n",
    "ohe_rf = tran.OHE_transformer()\n",
    "#train\n",
    "X_train = ohe_rf.fit_transform(train_df.drop([LABEL], axis=1))\n",
    "y_train = train_df[LABEL]\n",
    "#test\n",
    "X_test = ohe_rf.transform(test_df.drop([LABEL], axis=1))\n",
    "y_test = test_df[LABEL]\n",
    "#fit\n",
    "et_ben.fit(X_train, y_train)\n",
    "#predict\n",
    "train_preds_proba = et_ben.predict_proba(X_train)[:,1]\n",
    "test_preds_proba = et_ben.predict_proba(X_test)[:,1]\n",
    "#results\n",
    "utils.print_results(train_preds_proba, y_train, test_preds_proba, y_test)\n",
    "plots.plot_ROC_curve(et_ben, X_test, y_test)\n",
    "imps = plots.FeaturesImportanceTree(et_ben, X_train.columns, figsize=(11,25), ret_idx=True)"
   ]
  },
  {
   "cell_type": "markdown",
   "metadata": {},
   "source": [
    "## Hyper parametr tuning"
   ]
  },
  {
   "cell_type": "code",
   "execution_count": null,
   "metadata": {
    "collapsed": true
   },
   "outputs": [],
   "source": [
    "#rough grid\n",
    "param_grid = {\"n_estimators\": np.arange(20, 320, 20),\n",
    "              \"max_features\" : [\"sqrt\", \"log2\"]}\n",
    "\n",
    "et = ExtraTreesClassifier()\n",
    "gs = GridSearchCV(et, param_grid, scoring=utils.GINI_SCORER ,verbose=2)\n",
    "gs.fit(X_train, y_train)"
   ]
  },
  {
   "cell_type": "markdown",
   "metadata": {},
   "source": [
    "### Tuned model"
   ]
  },
  {
   "cell_type": "code",
   "execution_count": null,
   "metadata": {
    "collapsed": false
   },
   "outputs": [],
   "source": [
    "# et = gs.best_estimator_\n",
    "# print(et)\n",
    "\n",
    "et = ExtraTreesClassifier(bootstrap=False, class_weight=None, criterion='gini',\n",
    "           max_depth=None, max_features='log2', max_leaf_nodes=None,\n",
    "           min_impurity_split=1e-07, min_samples_leaf=1,\n",
    "           min_samples_split=2, min_weight_fraction_leaf=0.0,\n",
    "           n_estimators=300, n_jobs=1, oob_score=False, random_state=None,\n",
    "           verbose=0, warm_start=False)\n",
    "\n",
    "et.fit(X_train, y_train)\n",
    "\n",
    "#predict\n",
    "train_preds_proba = et.predict_proba(X_train)[:,1]\n",
    "test_preds_proba = et.predict_proba(X_test)[:,1]\n",
    "#results\n",
    "utils.print_results(train_preds_proba, y_train, test_preds_proba, y_test)\n",
    "plots.plot_ROC_curve(et, X_test, y_test)\n",
    "plots.FeaturesImportanceTree(et, X_train.columns, figsize=(11,25))"
   ]
  },
  {
   "cell_type": "markdown",
   "metadata": {},
   "source": [
    "### Tune depth"
   ]
  },
  {
   "cell_type": "code",
   "execution_count": null,
   "metadata": {
    "collapsed": true
   },
   "outputs": [],
   "source": [
    "#depth \"grid\"\n",
    "param_grid = {\"max_depth\" : [5, 10, 12, 15, 18, 20, None]}\n",
    "\n",
    "et_depth = ExtraTreesClassifier(bootstrap=False, class_weight=None, criterion='gini',\n",
    "           max_depth=None, max_features='log2', max_leaf_nodes=None,\n",
    "           min_impurity_split=1e-07, min_samples_leaf=1,\n",
    "           min_samples_split=2, min_weight_fraction_leaf=0.0,\n",
    "           n_estimators=280, n_jobs=1, oob_score=False, random_state=None,\n",
    "           verbose=0, warm_start=False)\n",
    "\n",
    "gs = GridSearchCV(et_depth, param_grid, scoring=utils.GINI_SCORER ,verbose=2)\n",
    "gs.fit(X_train, y_train)"
   ]
  },
  {
   "cell_type": "code",
   "execution_count": null,
   "metadata": {
    "collapsed": false
   },
   "outputs": [],
   "source": [
    "et_depth = gs.best_estimator_\n",
    "print(et_depth)\n",
    "\n",
    "et_depth.fit(X_train, y_train)\n",
    "#predict\n",
    "train_preds_proba = et_depth.predict_proba(X_train)[:,1]\n",
    "test_preds_proba = et_depth.predict_proba(X_test)[:,1]\n",
    "#results\n",
    "utils.print_results(train_preds_proba, y_train, test_preds_proba, y_test)\n",
    "plots.plot_ROC_curve(et_depth, X_test, y_test)\n",
    "plots.FeaturesImportanceTree(et_depth, X_train.columns, figsize=(11,25))"
   ]
  },
  {
   "cell_type": "markdown",
   "metadata": {},
   "source": [
    "### Model comparison"
   ]
  },
  {
   "cell_type": "code",
   "execution_count": null,
   "metadata": {
    "collapsed": false
   },
   "outputs": [],
   "source": [
    "models = [et_ben, et]\n",
    "names = [\"ET benchmark\", \"ET tuned\"]\n",
    "\n",
    "plots.plot_ROC_multiple(y_test, X_test, names, models)"
   ]
  }
 ],
 "metadata": {
  "anaconda-cloud": {},
  "kernelspec": {
   "display_name": "Python [Root]",
   "language": "python",
   "name": "Python [Root]"
  },
  "language_info": {
   "codemirror_mode": {
    "name": "ipython",
    "version": 3
   },
   "file_extension": ".py",
   "mimetype": "text/x-python",
   "name": "python",
   "nbconvert_exporter": "python",
   "pygments_lexer": "ipython3",
   "version": "3.5.2"
  }
 },
 "nbformat": 4,
 "nbformat_minor": 2
}
