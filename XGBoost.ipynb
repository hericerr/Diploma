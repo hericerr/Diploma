{
 "cells": [
  {
   "cell_type": "markdown",
   "metadata": {},
   "source": [
    "# Gradient boosting"
   ]
  },
  {
   "cell_type": "markdown",
   "metadata": {},
   "source": [
    "### Imports"
   ]
  },
  {
   "cell_type": "code",
   "execution_count": null,
   "metadata": {
    "collapsed": false
   },
   "outputs": [],
   "source": [
    "#libraries\n",
    "import numpy as np\n",
    "import pandas as pd\n",
    "import random\n",
    "import matplotlib.pyplot as plt\n",
    "import seaborn as sns\n",
    "import urllib as url\n",
    "from xgboost import XGBClassifier\n",
    "from sklearn.model_selection import GridSearchCV\n",
    "\n",
    "#custom\n",
    "import utils\n",
    "import plots\n",
    "import transformers as tran\n",
    "\n",
    "LABEL = \"1Y_default\"\n",
    "SEED = 42\n",
    "\n",
    "%matplotlib inline  \n",
    "%load_ext autoreload\n",
    "%autoreload 2\n",
    "\n",
    "random.seed(SEED)"
   ]
  },
  {
   "cell_type": "markdown",
   "metadata": {},
   "source": [
    "### Load data"
   ]
  },
  {
   "cell_type": "code",
   "execution_count": null,
   "metadata": {
    "collapsed": false
   },
   "outputs": [],
   "source": [
    "#read from csvs\n",
    "train_df = pd.read_csv(\"train_full.csv\", na_filter = False)\n",
    "test_df = pd.read_csv(\"test_full.csv\", na_filter = False)"
   ]
  },
  {
   "cell_type": "code",
   "execution_count": null,
   "metadata": {
    "collapsed": false
   },
   "outputs": [],
   "source": [
    "#sanity checks\n",
    "print(\"Train shape: {}\".format(train_df.shape))\n",
    "print(\"Test shape: {}\".format(test_df.shape))\n",
    "print(\"Train:\")\n",
    "utils.check_missing(train_df)\n",
    "print(\"Test:\")\n",
    "utils.check_missing(test_df)"
   ]
  },
  {
   "cell_type": "code",
   "execution_count": null,
   "metadata": {
    "collapsed": true
   },
   "outputs": [],
   "source": [
    "#numerically encoded categoricals\n",
    "to_categorical = [\"Education\", \"EmploymentStatus\", \"Gender\", \"HomeOwnershipType\", \"LanguageCode\", \"MaritalStatus\",\n",
    "                 \"NewCreditCustomer\", \"OccupationArea\", \"UseOfLoan\", \"VerificationType\", \"Country\", \"NrOfDependants\", \n",
    "                  \"NrOfDependants\", \"WorkExperience\", \"EmploymentDurationCurrentEmployer\", \"MonthlyPayment\"]\n",
    "for feature in to_categorical:\n",
    "    train_df[feature] = train_df[feature].astype(\"category\")\n",
    "    test_df[feature] = test_df[feature].astype(\"category\")"
   ]
  },
  {
   "cell_type": "markdown",
   "metadata": {},
   "source": [
    "### First simple benchmark"
   ]
  },
  {
   "cell_type": "code",
   "execution_count": null,
   "metadata": {
    "collapsed": false
   },
   "outputs": [],
   "source": [
    "#model: XGBoost\n",
    "gb_ben = XGBClassifier(n_estimators=100, random_state=SEED)  \n",
    "print(gb_ben)\n",
    "#prepare sets\n",
    "ohe_rf = tran.OHE_transformer()\n",
    "#train\n",
    "X_train = ohe_rf.fit_transform(train_df.drop([LABEL], axis=1))\n",
    "y_train = train_df[LABEL]\n",
    "#test\n",
    "X_test = ohe_rf.transform(test_df.drop([LABEL], axis=1))\n",
    "y_test = test_df[LABEL]\n",
    "#fit\n",
    "gb_ben.fit(X_train.values, y_train.values)\n",
    "#predict\n",
    "train_preds_proba = gb_ben.predict_proba(X_train.values)[:,1]\n",
    "test_preds_proba = gb_ben.predict_proba(X_test.values)[:,1]\n",
    "#results\n",
    "utils.print_results(train_preds_proba, y_train, test_preds_proba, y_test)\n",
    "plots.plot_ROC_curve(gb_ben, X_test, y_test)\n",
    "imps = plots.FeaturesImportanceTree(gb_ben, X_train.columns, figsize=(11,25), ret_idx=True)"
   ]
  },
  {
   "cell_type": "markdown",
   "metadata": {},
   "source": [
    "## Hyper parametr tuning"
   ]
  },
  {
   "cell_type": "code",
   "execution_count": null,
   "metadata": {
    "collapsed": false
   },
   "outputs": [],
   "source": [
    "#rough grid\n",
    "param_grid = {\"n_estimators\": np.arange(80, 500, 20),\n",
    "              \"learning_rate\" : [0.05, 0.1, 0.2, 0.3],\n",
    "              \"max_depth\" : [2, 3, 4, 5, 6],\n",
    "              \"subsample\" : [0.5, 0.7, 1]}\n",
    "\n",
    "gb = XGBClassifier()\n",
    "gs = GridSearchCV(gb, param_grid, scoring=utils.GINI_SCORER ,verbose=2)\n",
    "gs.fit(X_train.values, y_train.values)"
   ]
  },
  {
   "cell_type": "markdown",
   "metadata": {},
   "source": [
    "### Tuned model"
   ]
  },
  {
   "cell_type": "code",
   "execution_count": null,
   "metadata": {
    "collapsed": false
   },
   "outputs": [],
   "source": [
    "gb = gs.best_estimator_\n",
    "print(gb)\n",
    "\n",
    "#predict\n",
    "train_preds_proba = gb.predict_proba(X_train.values)[:,1]\n",
    "test_preds_proba = gb.predict_proba(X_test.values)[:,1]\n",
    "#results\n",
    "utils.print_results(train_preds_proba, y_train, test_preds_proba, y_test)\n",
    "plots.plot_ROC_curve(gb, X_test, y_test)\n",
    "plots.FeaturesImportanceTree(gb, X_train.columns, figsize=(11,25))"
   ]
  },
  {
   "cell_type": "markdown",
   "metadata": {},
   "source": [
    "### Fine tuned model"
   ]
  },
  {
   "cell_type": "code",
   "execution_count": null,
   "metadata": {
    "collapsed": false
   },
   "outputs": [],
   "source": [
    "#finer grid around best parameters found so far\n",
    "param_grid_fine = {\"n_estimators\": np.arange(180, 310, 10),\n",
    "                   \"learning_rate\" : [0.025, 0.05, 0.075],\n",
    "                   \"max_depth\" : [5, 6], #don't want the trees to be much deeper than generally recommended \n",
    "                   \"subsample\" : [0.7]}\n",
    "\n",
    "gb_fine = XGBClassifier()\n",
    "gs_fine = GridSearchCV(gb_fine, param_grid_fine, scoring=utils.GINI_SCORER ,verbose=2)\n",
    "gs_fine.fit(X_train.values, y_train.values)"
   ]
  },
  {
   "cell_type": "code",
   "execution_count": null,
   "metadata": {
    "collapsed": false
   },
   "outputs": [],
   "source": [
    "gb_fine = gs_fine.best_estimator_\n",
    "print(gb_fine)\n",
    "\n",
    "#predict\n",
    "train_preds_proba = gb_fine.predict_proba(X_train.values)[:,1]\n",
    "test_preds_proba = gb_fine.predict_proba(X_test.values)[:,1]\n",
    "#results\n",
    "utils.print_results(train_preds_proba, y_train, test_preds_proba, y_test)\n",
    "plots.plot_ROC_curve(gb_fine, X_test, y_test)\n",
    "plots.FeaturesImportanceTree(gb_fine, X_train.columns, figsize=(11,25))"
   ]
  },
  {
   "cell_type": "markdown",
   "metadata": {},
   "source": [
    "### Model comparison"
   ]
  },
  {
   "cell_type": "code",
   "execution_count": null,
   "metadata": {
    "collapsed": false
   },
   "outputs": [],
   "source": [
    "#refit tuned\n",
    "#best models found in previous iterations\n",
    "gb = XGBClassifier(base_score=0.5, booster='gbtree', colsample_bylevel=1,\n",
    "       colsample_bytree=1, gamma=0, learning_rate=0.05, max_delta_step=0,\n",
    "       max_depth=6, min_child_weight=1, missing=None, n_estimators=220,\n",
    "       n_jobs=1, nthread=None, objective='binary:logistic', random_state=0,\n",
    "       reg_alpha=0, reg_lambda=1, scale_pos_weight=1, seed=None,\n",
    "       silent=True, subsample=0.7)\n",
    "\n",
    "gb_fine = XGBClassifier(base_score=0.5, booster='gbtree', colsample_bylevel=1,\n",
    "       colsample_bytree=1, gamma=0, learning_rate=0.025, max_delta_step=0,\n",
    "       max_depth=6, min_child_weight=1, missing=None, n_estimators=300,\n",
    "       n_jobs=1, nthread=None, objective='binary:logistic', random_state=0,\n",
    "       reg_alpha=0, reg_lambda=1, scale_pos_weight=1, seed=None,\n",
    "       silent=True, subsample=0.7)\n",
    "\n",
    "gb.fit(X_train.values, y_train.values)\n",
    "gb_fine.fit(X_train.values, y_train.values)\n",
    "\n",
    "\n",
    "models = [gb_ben, gb, gb_fine]\n",
    "names = [\"GB benchmark\", \"GB tuned\", \"GB fine tuned\"]\n",
    "\n",
    "plots.plot_ROC_multiple(y_test, X_test, names, models)"
   ]
  }
 ],
 "metadata": {
  "anaconda-cloud": {},
  "kernelspec": {
   "display_name": "Python [Root]",
   "language": "python",
   "name": "Python [Root]"
  },
  "language_info": {
   "codemirror_mode": {
    "name": "ipython",
    "version": 3
   },
   "file_extension": ".py",
   "mimetype": "text/x-python",
   "name": "python",
   "nbconvert_exporter": "python",
   "pygments_lexer": "ipython3",
   "version": "3.5.2"
  }
 },
 "nbformat": 4,
 "nbformat_minor": 2
}
