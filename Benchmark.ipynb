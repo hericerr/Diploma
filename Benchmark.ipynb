{
 "cells": [
  {
   "cell_type": "markdown",
   "metadata": {},
   "source": [
    "# Benchmark model: logistic regression"
   ]
  },
  {
   "cell_type": "code",
   "execution_count": null,
   "metadata": {
    "collapsed": true
   },
   "outputs": [],
   "source": [
    "import pandas as pd\n",
    "\n",
    "import utils\n",
    "import plots\n",
    "\n",
    "%matplotlib inline  \n",
    "%load_ext autoreload\n",
    "%autoreload 2\n",
    "\n",
    "LABEL = \"default\""
   ]
  },
  {
   "cell_type": "code",
   "execution_count": null,
   "metadata": {
    "collapsed": false
   },
   "outputs": [],
   "source": [
    "#read from csvs\n",
    "train_df = pd.read_csv(\"train_selected.csv\", na_filter = False)\n",
    "test_df = pd.read_csv(\"test_selected.csv\", na_filter = False)"
   ]
  },
  {
   "cell_type": "code",
   "execution_count": null,
   "metadata": {
    "collapsed": false
   },
   "outputs": [],
   "source": [
    "#sanity checks\n",
    "print(\"Train shape: {}\".format(train_df.shape))\n",
    "print(\"Test shape: {}\".format(test_df.shape))\n",
    "print(\"Train:\")\n",
    "utils.check_missing(train_df)\n",
    "print(\"Test:\")\n",
    "utils.check_missing(test_df)"
   ]
  },
  {
   "cell_type": "code",
   "execution_count": null,
   "metadata": {
    "collapsed": false
   },
   "outputs": [],
   "source": [
    "train_df = train_df.rename(columns = {\"1Y_default\" : LABEL})\n",
    "test_df = test_df.rename(columns = {\"1Y_default\" : LABEL})"
   ]
  },
  {
   "cell_type": "code",
   "execution_count": null,
   "metadata": {
    "collapsed": false
   },
   "outputs": [],
   "source": [
    "train_df.columns = ['Interest', 'Country', 'MonthlyPayment', 'HomeOwnershipType', 'Gender',\n",
    "       'VerificationType', 'NewCreditCustomer', 'Education', 'MaritalStatus',\n",
    "       'ExistingLiabilities', 'OccupationArea', 'UseOfLoan', 'default']\n",
    "\n",
    "test_df.columns = ['Interest', 'Country', 'MonthlyPayment', 'HomeOwnershipType', 'Gender',\n",
    "       'VerificationType', 'NewCreditCustomer', 'Education', 'MaritalStatus',\n",
    "       'ExistingLiabilities', 'OccupationArea', 'UseOfLoan', 'default']"
   ]
  },
  {
   "cell_type": "code",
   "execution_count": null,
   "metadata": {
    "collapsed": false
   },
   "outputs": [],
   "source": [
    "#numerically encoded categoricals\n",
    "to_categorical = [\"Country\", \"HomeOwnershipType\", \"MaritalStatus\", \"OccupationArea\", \"UseOfLoan\", \n",
    "                  \"MonthlyPayment\", \"NewCreditCustomer\", \"Gender\", \"VerificationType\", \"Education\"]\n",
    "for feature in to_categorical:\n",
    "    train_df[feature] = train_df[feature].astype(\"category\")\n",
    "    test_df[feature] = test_df[feature].astype(\"category\")"
   ]
  },
  {
   "cell_type": "code",
   "execution_count": null,
   "metadata": {
    "collapsed": false
   },
   "outputs": [],
   "source": [
    "train_df.columns"
   ]
  },
  {
   "cell_type": "code",
   "execution_count": null,
   "metadata": {
    "collapsed": false
   },
   "outputs": [],
   "source": [
    "finmodel, flist = utils.foreward_selection(train_df, LABEL, list(train_df.columns.drop(LABEL)), to_categorical)"
   ]
  },
  {
   "cell_type": "code",
   "execution_count": null,
   "metadata": {
    "collapsed": false
   },
   "outputs": [],
   "source": [
    "scores_train = finmodel.predict(train_df)\n",
    "scores_test = finmodel.predict(test_df)\n",
    "utils.print_results(scores_train, train_df[LABEL], scores_test, test_df[LABEL])"
   ]
  },
  {
   "cell_type": "code",
   "execution_count": null,
   "metadata": {
    "collapsed": false
   },
   "outputs": [],
   "source": [
    "plots.plot_ROC_curve(None, None, test_df[LABEL], preds=scores_test, figsize=(7,7))"
   ]
  }
 ],
 "metadata": {
  "anaconda-cloud": {},
  "kernelspec": {
   "display_name": "Python [Root]",
   "language": "python",
   "name": "Python [Root]"
  },
  "language_info": {
   "codemirror_mode": {
    "name": "ipython",
    "version": 3
   },
   "file_extension": ".py",
   "mimetype": "text/x-python",
   "name": "python",
   "nbconvert_exporter": "python",
   "pygments_lexer": "ipython3",
   "version": "3.5.2"
  }
 },
 "nbformat": 4,
 "nbformat_minor": 2
}
