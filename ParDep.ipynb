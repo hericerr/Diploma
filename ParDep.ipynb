{
 "cells": [
  {
   "cell_type": "markdown",
   "metadata": {},
   "source": [
    "### Partial dependence plots"
   ]
  },
  {
   "cell_type": "code",
   "execution_count": null,
   "metadata": {
    "collapsed": true
   },
   "outputs": [],
   "source": [
    "#libraries\n",
    "from sklearn.ensemble import GradientBoostingClassifier\n",
    "from sklearn.ensemble.partial_dependence import plot_partial_dependence\n",
    "from sklearn.ensemble.partial_dependence import partial_dependence\n",
    "import pandas as pd\n",
    "\n",
    "#custom\n",
    "import utils\n",
    "import plots\n",
    "import transformers as tran\n",
    "\n",
    "LABEL = \"1Y_default\"\n",
    "\n",
    "%matplotlib inline  \n",
    "%load_ext autoreload\n",
    "%autoreload 2"
   ]
  },
  {
   "cell_type": "code",
   "execution_count": null,
   "metadata": {
    "collapsed": true
   },
   "outputs": [],
   "source": [
    "#read from csvs\n",
    "train_df = pd.read_csv(\"train_full.csv\", na_filter = False)\n",
    "test_df = pd.read_csv(\"test_full.csv\", na_filter = False)"
   ]
  },
  {
   "cell_type": "code",
   "execution_count": null,
   "metadata": {
    "collapsed": false
   },
   "outputs": [],
   "source": [
    "#sanity checks\n",
    "print(\"Train shape: {}\".format(train_df.shape))\n",
    "print(\"Test shape: {}\".format(test_df.shape))\n",
    "print(\"Train:\")\n",
    "utils.check_missing(train_df)\n",
    "print(\"Test:\")\n",
    "utils.check_missing(test_df)"
   ]
  },
  {
   "cell_type": "code",
   "execution_count": null,
   "metadata": {
    "collapsed": true
   },
   "outputs": [],
   "source": [
    "cols_sel = ['Interest', 'Age', 'IncomeTotal', 'AppliedAmount']"
   ]
  },
  {
   "cell_type": "code",
   "execution_count": null,
   "metadata": {
    "collapsed": false
   },
   "outputs": [],
   "source": [
    "#model\n",
    "gb_sel = GradientBoostingClassifier() \n",
    "print(gb_sel)\n",
    "#train\n",
    "ohe_rf = tran.OHE_transformer()\n",
    "X_train = ohe_rf.fit_transform(train_df.drop([LABEL], axis=1))\n",
    "y_train = train_df[LABEL]\n",
    "X_train_sel = X_train[cols_sel]\n",
    "y_train_sel = train_df[LABEL]\n",
    "#test\n",
    "X_test = ohe_rf.transform(test_df.drop([LABEL], axis=1))\n",
    "y_test = test_df[LABEL]\n",
    "X_test_sel = X_test[cols_sel]\n",
    "y_test_sel = test_df[LABEL]\n",
    "#fit\n",
    "gb_sel.fit(X_train_sel.values, y_train_sel.values)\n",
    "#predict\n",
    "train_preds_proba = gb_sel.predict_proba(X_train_sel.values)[:,1]\n",
    "test_preds_proba = gb_sel.predict_proba(X_test_sel.values)[:,1]\n",
    "#results\n",
    "utils.print_results(train_preds_proba, y_train_sel, test_preds_proba, y_test_sel)\n",
    "plots.plot_ROC_curve(gb_sel, X_test_sel, y_test_sel)\n",
    "plots.FeaturesImportanceTree(gb_sel, X_train_sel.columns, figsize=(5,5))"
   ]
  },
  {
   "cell_type": "code",
   "execution_count": null,
   "metadata": {
    "collapsed": false
   },
   "outputs": [],
   "source": [
    "features = [\"Interest\", \"AppliedAmount\"]\n",
    "names = list(X_train_sel.columns)\n",
    "fig, axs = plot_partial_dependence(gb_sel, X_train_sel, features,\n",
    "                                   feature_names=names,\n",
    "                                   n_jobs=3, grid_resolution=50)"
   ]
  },
  {
   "cell_type": "code",
   "execution_count": null,
   "metadata": {
    "collapsed": false
   },
   "outputs": [],
   "source": [
    "features = [(\"Interest\", \"AppliedAmount\")]\n",
    "names = list(X_train_sel.columns)\n",
    "fig, axs = plot_partial_dependence(gb_sel, X_train_sel, features,\n",
    "                                   feature_names=names,\n",
    "                                   n_jobs=3, grid_resolution=50)"
   ]
  }
 ],
 "metadata": {
  "kernelspec": {
   "display_name": "Python [Root]",
   "language": "python",
   "name": "Python [Root]"
  },
  "language_info": {
   "codemirror_mode": {
    "name": "ipython",
    "version": 3
   },
   "file_extension": ".py",
   "mimetype": "text/x-python",
   "name": "python",
   "nbconvert_exporter": "python",
   "pygments_lexer": "ipython3",
   "version": "3.5.2"
  }
 },
 "nbformat": 4,
 "nbformat_minor": 2
}
