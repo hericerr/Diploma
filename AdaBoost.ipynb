{
 "cells": [
  {
   "cell_type": "markdown",
   "metadata": {},
   "source": [
    "# AdaBoost"
   ]
  },
  {
   "cell_type": "markdown",
   "metadata": {},
   "source": [
    "### Imports"
   ]
  },
  {
   "cell_type": "code",
   "execution_count": null,
   "metadata": {
    "collapsed": false
   },
   "outputs": [],
   "source": [
    "#libraries\n",
    "import numpy as np\n",
    "import pandas as pd\n",
    "import random\n",
    "import matplotlib.pyplot as plt\n",
    "import seaborn as sns\n",
    "import urllib as url\n",
    "from sklearn.ensemble import AdaBoostClassifier\n",
    "from sklearn.model_selection import GridSearchCV\n",
    "\n",
    "#custom\n",
    "import utils\n",
    "import config\n",
    "import plots\n",
    "import transformers as tran\n",
    "\n",
    "LABEL = \"1Y_default\"\n",
    "SEED = 42\n",
    "\n",
    "%matplotlib inline  \n",
    "%load_ext autoreload\n",
    "%autoreload 2\n",
    "\n",
    "random.seed(SEED)"
   ]
  },
  {
   "cell_type": "markdown",
   "metadata": {},
   "source": [
    "### Load data"
   ]
  },
  {
   "cell_type": "code",
   "execution_count": null,
   "metadata": {
    "collapsed": false
   },
   "outputs": [],
   "source": [
    "#read from csvs\n",
    "train_df = pd.read_csv(\"train_full.csv\", na_filter = False)\n",
    "test_df = pd.read_csv(\"test_full.csv\", na_filter = False)"
   ]
  },
  {
   "cell_type": "code",
   "execution_count": null,
   "metadata": {
    "collapsed": false
   },
   "outputs": [],
   "source": [
    "#sanity checks\n",
    "print(\"Train shape: {}\".format(train_df.shape))\n",
    "print(\"Test shape: {}\".format(test_df.shape))\n",
    "print(\"Train:\")\n",
    "utils.check_missing(train_df)\n",
    "print(\"Test:\")\n",
    "utils.check_missing(test_df)"
   ]
  },
  {
   "cell_type": "code",
   "execution_count": null,
   "metadata": {
    "collapsed": true
   },
   "outputs": [],
   "source": [
    "#numerically encoded categoricals\n",
    "to_categorical = [\"Education\", \"EmploymentStatus\", \"Gender\", \"HomeOwnershipType\", \"LanguageCode\", \"MaritalStatus\",\n",
    "                 \"NewCreditCustomer\", \"OccupationArea\", \"UseOfLoan\", \"VerificationType\", \"Country\", \"NrOfDependants\", \n",
    "                  \"NrOfDependants\", \"WorkExperience\", \"EmploymentDurationCurrentEmployer\", \"MonthlyPayment\"]\n",
    "for feature in to_categorical:\n",
    "    train_df[feature] = train_df[feature].astype(\"category\")\n",
    "    test_df[feature] = test_df[feature].astype(\"category\")"
   ]
  },
  {
   "cell_type": "markdown",
   "metadata": {},
   "source": [
    "### First simple benchmark"
   ]
  },
  {
   "cell_type": "code",
   "execution_count": null,
   "metadata": {
    "collapsed": false
   },
   "outputs": [],
   "source": [
    "#model: AdaBoost\n",
    "ab_ben = AdaBoostClassifier(n_estimators=100, random_state=SEED)  \n",
    "print(ab_ben)\n",
    "#prepare sets\n",
    "ohe_rf = tran.OHE_transformer()\n",
    "#train\n",
    "X_train = ohe_rf.fit_transform(train_df.drop([LABEL], axis=1))\n",
    "y_train = train_df[LABEL]\n",
    "#test\n",
    "X_test = ohe_rf.transform(test_df.drop([LABEL], axis=1))\n",
    "y_test = test_df[LABEL]\n",
    "#fit\n",
    "ab_ben.fit(X_train, y_train)\n",
    "#predict\n",
    "train_preds_proba = ab_ben.predict_proba(X_train)[:,1]\n",
    "test_preds_proba = ab_ben.predict_proba(X_test)[:,1]\n",
    "#results\n",
    "utils.print_results(train_preds_proba, y_train, test_preds_proba, y_test)\n",
    "plots.plot_ROC_curve(ab_ben, X_test, y_test)\n",
    "imps = plots.FeaturesImportanceTree(ab_ben, X_train.columns, figsize=(11,25), ret_idx=True)"
   ]
  },
  {
   "cell_type": "markdown",
   "metadata": {},
   "source": [
    "## Hyper parametr tuning"
   ]
  },
  {
   "cell_type": "code",
   "execution_count": null,
   "metadata": {
    "collapsed": true
   },
   "outputs": [],
   "source": [
    "#rough grid\n",
    "param_grid = {\"n_estimators\": np.arange(60, 520, 20),\n",
    "              \"learning_rate\" : [0.2, 0.5, 0.7, 1.0]}\n",
    "\n",
    "ab = AdaBoostClassifier()\n",
    "gs = GridSearchCV(ab, param_grid, scoring=utils.GINI_SCORER ,verbose=2)\n",
    "gs.fit(X_train, y_train)"
   ]
  },
  {
   "cell_type": "markdown",
   "metadata": {},
   "source": [
    "### Tuned model"
   ]
  },
  {
   "cell_type": "code",
   "execution_count": null,
   "metadata": {
    "collapsed": false
   },
   "outputs": [],
   "source": [
    "ab = gs.best_estimator_\n",
    "print(ab)\n",
    "\n",
    "#predict\n",
    "train_preds_proba = ab.predict_proba(X_train)[:,1]\n",
    "test_preds_proba = ab.predict_proba(X_test)[:,1]\n",
    "#results\n",
    "utils.print_results(train_preds_proba, y_train, test_preds_proba, y_test)\n",
    "plots.plot_ROC_curve(ab, X_test, y_test)\n",
    "plots.FeaturesImportanceTree(ab, X_train.columns, figsize=(11,25))"
   ]
  },
  {
   "cell_type": "markdown",
   "metadata": {},
   "source": [
    "### Fine tuned model"
   ]
  },
  {
   "cell_type": "code",
   "execution_count": null,
   "metadata": {
    "collapsed": false
   },
   "outputs": [],
   "source": [
    "#finer grid around best parameters found so far\n",
    "#rough grid\n",
    "param_grid_fine = {\"n_estimators\": np.arange(470, 600, 10),\n",
    "              \"learning_rate\" : [0.1, 0.15, 0.2, 0.25, 0.30]}\n",
    "\n",
    "ab_fine = AdaBoostClassifier()\n",
    "gs_fine = GridSearchCV(ab_fine, param_grid_fine, scoring=utils.GINI_SCORER ,verbose=2)\n",
    "gs_fine.fit(X_train, y_train)"
   ]
  },
  {
   "cell_type": "code",
   "execution_count": null,
   "metadata": {
    "collapsed": false
   },
   "outputs": [],
   "source": [
    "ab_fine = gs_fine.best_estimator_\n",
    "print(ab_fine)\n",
    "\n",
    "#predict\n",
    "train_preds_proba = ab_fine.predict_proba(X_train)[:,1]\n",
    "test_preds_proba = ab_fine.predict_proba(X_test)[:,1]\n",
    "#results\n",
    "utils.print_results(train_preds_proba, y_train, test_preds_proba, y_test)\n",
    "plots.plot_ROC_curve(ab_fine, X_test, y_test)\n",
    "plots.FeaturesImportanceTree(ab_fine, X_train.columns, figsize=(11,25))"
   ]
  },
  {
   "cell_type": "markdown",
   "metadata": {},
   "source": [
    "### Model comparison"
   ]
  },
  {
   "cell_type": "code",
   "execution_count": null,
   "metadata": {
    "collapsed": false
   },
   "outputs": [],
   "source": [
    "models = [ab_ben, ab_fine]\n",
    "names = [\"AB benchmark\", \"AB fine\"]\n",
    "\n",
    "plots.plot_ROC_multiple(y_test, X_test, names, models)"
   ]
  }
 ],
 "metadata": {
  "anaconda-cloud": {},
  "kernelspec": {
   "display_name": "Python [Root]",
   "language": "python",
   "name": "Python [Root]"
  },
  "language_info": {
   "codemirror_mode": {
    "name": "ipython",
    "version": 3
   },
   "file_extension": ".py",
   "mimetype": "text/x-python",
   "name": "python",
   "nbconvert_exporter": "python",
   "pygments_lexer": "ipython3",
   "version": "3.5.2"
  }
 },
 "nbformat": 4,
 "nbformat_minor": 2
}
