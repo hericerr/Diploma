{
 "cells": [
  {
   "cell_type": "code",
   "execution_count": null,
   "metadata": {
    "collapsed": true
   },
   "outputs": [],
   "source": [
    "#libraries\n",
    "import numpy as np\n",
    "import pandas as pd\n",
    "import random\n",
    "import warnings\n",
    "import matplotlib.pyplot as plt\n",
    "import seaborn as sns\n",
    "from sklearn.ensemble import RandomForestClassifier\n",
    "\n",
    "#custom\n",
    "import utils\n",
    "import plots\n",
    "import transformers as tran\n",
    "\n",
    "LABEL = \"1Y_default\"\n",
    "SEED = 42\n",
    "\n",
    "%matplotlib inline  \n",
    "%load_ext autoreload\n",
    "%autoreload 2\n",
    "\n",
    "pd.options.mode.chained_assignment = None\n",
    "warnings.filterwarnings(\"ignore\")"
   ]
  },
  {
   "cell_type": "code",
   "execution_count": null,
   "metadata": {
    "collapsed": false
   },
   "outputs": [],
   "source": [
    "#load data from csv\n",
    "data_full = pd.read_csv(\"LoanData.csv\")\n",
    "\n",
    "print(\"Raw data shape: {}\".format(data_full.shape))"
   ]
  },
  {
   "cell_type": "code",
   "execution_count": null,
   "metadata": {
    "collapsed": false
   },
   "outputs": [],
   "source": [
    "#select only relevant variables available at application\n",
    "to_keep = [\"LoanDate\",\"DefaultDate\", \"Age\", \"ProbabilityOfDefault\", \"Amount\", \"AmountOfPreviousLoansBeforeLoan\", \"AppliedAmount\", \"City\", \"Country\", \"County\", \"DebtToIncome\",\n",
    "           \"Education\", \"EmploymentDurationCurrentEmployer\", \"EmploymentPosition\", \"EmploymentStatus\",\n",
    "           \"ExistingLiabilities\", \"FreeCash\", \"Gender\", \"HomeOwnershipType\", \"IncomeFromChildSupport\", \"IncomeFromFamilyAllowance\",\n",
    "           \"IncomeFromLeavePay\", \"IncomeFromPension\", \"IncomeFromPrincipalEmployer\", \"IncomeFromSocialWelfare\", \n",
    "           \"IncomeOther\", \"IncomeTotal\", \"Interest\", \"LanguageCode\", \"MaritalStatus\", \"MonthlyPayment\", \"NewCreditCustomer\",\n",
    "           \"NoOfPreviousLoansBeforeLoan\", \"NrOfDependants\", \"OccupationArea\", \"UseOfLoan\", \"VerificationType\", \"WorkExperience\"   \n",
    "]\n",
    "\n",
    "data_df = data_full[to_keep]\n",
    "print(\"Data shape: {}\".format(data_df.shape))"
   ]
  },
  {
   "cell_type": "code",
   "execution_count": null,
   "metadata": {
    "collapsed": true
   },
   "outputs": [],
   "source": [
    "import pandas_profiling\n",
    "\n",
    "profile = pandas_profiling.ProfileReport(data_df)\n",
    "profile.to_file(outputfile=\"Profile.html\")"
   ]
  }
 ],
 "metadata": {
  "anaconda-cloud": {},
  "kernelspec": {
   "display_name": "Python [Root]",
   "language": "python",
   "name": "Python [Root]"
  },
  "language_info": {
   "codemirror_mode": {
    "name": "ipython",
    "version": 3
   },
   "file_extension": ".py",
   "mimetype": "text/x-python",
   "name": "python",
   "nbconvert_exporter": "python",
   "pygments_lexer": "ipython3",
   "version": "3.5.2"
  }
 },
 "nbformat": 4,
 "nbformat_minor": 2
}
